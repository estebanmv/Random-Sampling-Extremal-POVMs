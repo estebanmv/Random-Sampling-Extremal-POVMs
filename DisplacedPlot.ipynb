{
 "cells": [
  {
   "cell_type": "code",
   "execution_count": 1,
   "metadata": {},
   "outputs": [],
   "source": [
    "import pandas as pd\n",
    "import numpy as np\n",
    "import matplotlib.pyplot as plt"
   ]
  },
  {
   "cell_type": "code",
   "execution_count": 37,
   "metadata": {},
   "outputs": [],
   "source": [
    "Dpoints = pd.read_csv('DisplacedThermal_highD.dat', header=None, sep=',')\n",
    "Dprueba = pd.read_csv('DisplacedThermalSqrt-redo.dat', header=None, sep=',')\n",
    "DAnsatz = pd.read_csv('AnsatzDisplacedThermal.dat', header=None, sep='\\t')"
   ]
  },
  {
   "cell_type": "code",
   "execution_count": 44,
   "metadata": {},
   "outputs": [],
   "source": [
    "DAncpmt = pd.read_csv('AnsatzDisplacedThermalcmpmt.dat',header=None, sep='\\t')"
   ]
  },
  {
   "cell_type": "code",
   "execution_count": 45,
   "metadata": {},
   "outputs": [
    {
     "data": {
      "text/html": [
       "<div>\n",
       "<style scoped>\n",
       "    .dataframe tbody tr th:only-of-type {\n",
       "        vertical-align: middle;\n",
       "    }\n",
       "\n",
       "    .dataframe tbody tr th {\n",
       "        vertical-align: top;\n",
       "    }\n",
       "\n",
       "    .dataframe thead th {\n",
       "        text-align: right;\n",
       "    }\n",
       "</style>\n",
       "<table border=\"1\" class=\"dataframe\">\n",
       "  <thead>\n",
       "    <tr style=\"text-align: right;\">\n",
       "      <th></th>\n",
       "      <th>0</th>\n",
       "      <th>1</th>\n",
       "    </tr>\n",
       "  </thead>\n",
       "  <tbody>\n",
       "    <tr>\n",
       "      <th>0</th>\n",
       "      <td>0.002500</td>\n",
       "      <td>1.620322</td>\n",
       "    </tr>\n",
       "    <tr>\n",
       "      <th>1</th>\n",
       "      <td>0.008906</td>\n",
       "      <td>1.620322</td>\n",
       "    </tr>\n",
       "    <tr>\n",
       "      <th>2</th>\n",
       "      <td>0.019250</td>\n",
       "      <td>1.620322</td>\n",
       "    </tr>\n",
       "    <tr>\n",
       "      <th>3</th>\n",
       "      <td>0.033531</td>\n",
       "      <td>1.620322</td>\n",
       "    </tr>\n",
       "    <tr>\n",
       "      <th>4</th>\n",
       "      <td>0.051750</td>\n",
       "      <td>1.620322</td>\n",
       "    </tr>\n",
       "    <tr>\n",
       "      <th>5</th>\n",
       "      <td>0.073906</td>\n",
       "      <td>1.620322</td>\n",
       "    </tr>\n",
       "  </tbody>\n",
       "</table>\n",
       "</div>"
      ],
      "text/plain": [
       "          0         1\n",
       "0  0.002500  1.620322\n",
       "1  0.008906  1.620322\n",
       "2  0.019250  1.620322\n",
       "3  0.033531  1.620322\n",
       "4  0.051750  1.620322\n",
       "5  0.073906  1.620322"
      ]
     },
     "execution_count": 45,
     "metadata": {},
     "output_type": "execute_result"
    }
   ],
   "source": [
    "DAncpmt"
   ]
  },
  {
   "cell_type": "code",
   "execution_count": 46,
   "metadata": {},
   "outputs": [
    {
     "data": {
      "text/plain": [
       "0    0.050000\n",
       "1    0.094371\n",
       "2    0.138743\n",
       "3    0.183114\n",
       "4    0.227485\n",
       "5    0.271857\n",
       "Name: x, dtype: float64"
      ]
     },
     "execution_count": 46,
     "metadata": {},
     "output_type": "execute_result"
    }
   ],
   "source": [
    "DAncpmt.columns=['x','y']\n",
    "np.sqrt(DAncpmt.x)"
   ]
  },
  {
   "cell_type": "code",
   "execution_count": 49,
   "metadata": {},
   "outputs": [
    {
     "data": {
      "text/plain": [
       "0     0.316228\n",
       "1     0.447214\n",
       "2     0.547723\n",
       "3     0.632456\n",
       "4     0.707107\n",
       "5     0.774597\n",
       "6     0.836660\n",
       "7     0.894427\n",
       "8     0.948683\n",
       "9     1.000000\n",
       "10    1.048809\n",
       "11    1.095445\n",
       "12    1.140175\n",
       "13    1.183216\n",
       "14    1.224745\n",
       "15    1.264911\n",
       "16    1.303840\n",
       "17    1.341641\n",
       "18    1.378405\n",
       "19    1.414214\n",
       "20    1.449138\n",
       "21    1.483240\n",
       "22    1.516575\n",
       "23    1.549193\n",
       "24    1.581139\n",
       "25    1.612452\n",
       "26    1.643168\n",
       "27    1.673320\n",
       "28    1.702939\n",
       "29    1.732051\n",
       "Name: x, dtype: float64"
      ]
     },
     "execution_count": 49,
     "metadata": {},
     "output_type": "execute_result"
    }
   ],
   "source": [
    "np.sqrt(DAnsatz.x)"
   ]
  },
  {
   "cell_type": "code",
   "execution_count": 8,
   "metadata": {},
   "outputs": [
    {
     "data": {
      "text/plain": [
       "0.31622776601683794"
      ]
     },
     "execution_count": 8,
     "metadata": {},
     "output_type": "execute_result"
    }
   ],
   "source": [
    "np.sqrt(0.1)"
   ]
  },
  {
   "cell_type": "code",
   "execution_count": 48,
   "metadata": {},
   "outputs": [],
   "source": [
    "DAnsatz.columns=['x','y']"
   ]
  },
  {
   "cell_type": "code",
   "execution_count": 29,
   "metadata": {},
   "outputs": [
    {
     "data": {
      "text/html": [
       "<div>\n",
       "<style scoped>\n",
       "    .dataframe tbody tr th:only-of-type {\n",
       "        vertical-align: middle;\n",
       "    }\n",
       "\n",
       "    .dataframe tbody tr th {\n",
       "        vertical-align: top;\n",
       "    }\n",
       "\n",
       "    .dataframe thead th {\n",
       "        text-align: right;\n",
       "    }\n",
       "</style>\n",
       "<table border=\"1\" class=\"dataframe\">\n",
       "  <thead>\n",
       "    <tr style=\"text-align: right;\">\n",
       "      <th></th>\n",
       "      <th>0</th>\n",
       "      <th>1</th>\n",
       "    </tr>\n",
       "  </thead>\n",
       "  <tbody>\n",
       "    <tr>\n",
       "      <th>0</th>\n",
       "      <td>0.010000</td>\n",
       "      <td>1.619404</td>\n",
       "    </tr>\n",
       "    <tr>\n",
       "      <th>1</th>\n",
       "      <td>0.074376</td>\n",
       "      <td>1.619721</td>\n",
       "    </tr>\n",
       "    <tr>\n",
       "      <th>2</th>\n",
       "      <td>0.198417</td>\n",
       "      <td>1.623897</td>\n",
       "    </tr>\n",
       "    <tr>\n",
       "      <th>3</th>\n",
       "      <td>0.382122</td>\n",
       "      <td>1.639176</td>\n",
       "    </tr>\n",
       "    <tr>\n",
       "      <th>4</th>\n",
       "      <td>0.625491</td>\n",
       "      <td>1.660734</td>\n",
       "    </tr>\n",
       "    <tr>\n",
       "      <th>5</th>\n",
       "      <td>0.928525</td>\n",
       "      <td>1.688251</td>\n",
       "    </tr>\n",
       "    <tr>\n",
       "      <th>6</th>\n",
       "      <td>1.291223</td>\n",
       "      <td>1.711921</td>\n",
       "    </tr>\n",
       "    <tr>\n",
       "      <th>7</th>\n",
       "      <td>1.713586</td>\n",
       "      <td>1.717819</td>\n",
       "    </tr>\n",
       "    <tr>\n",
       "      <th>8</th>\n",
       "      <td>2.195613</td>\n",
       "      <td>1.719657</td>\n",
       "    </tr>\n",
       "  </tbody>\n",
       "</table>\n",
       "</div>"
      ],
      "text/plain": [
       "          0         1\n",
       "0  0.010000  1.619404\n",
       "1  0.074376  1.619721\n",
       "2  0.198417  1.623897\n",
       "3  0.382122  1.639176\n",
       "4  0.625491  1.660734\n",
       "5  0.928525  1.688251\n",
       "6  1.291223  1.711921\n",
       "7  1.713586  1.717819\n",
       "8  2.195613  1.719657"
      ]
     },
     "execution_count": 29,
     "metadata": {},
     "output_type": "execute_result"
    }
   ],
   "source": [
    "Dprueba"
   ]
  },
  {
   "cell_type": "code",
   "execution_count": 50,
   "metadata": {},
   "outputs": [
    {
     "data": {
      "text/plain": [
       "array([0.01      , 0.07438017, 0.19842975, 0.38214876, 0.62553719,\n",
       "       0.92859504, 1.29132231, 1.71371901, 2.19578512, 2.73752066,\n",
       "       3.33892562, 4.        ])"
      ]
     },
     "execution_count": 50,
     "metadata": {},
     "output_type": "execute_result"
    }
   ],
   "source": [
    "np.power(np.linspace(0.1,2,12),2)"
   ]
  },
  {
   "cell_type": "code",
   "execution_count": 50,
   "metadata": {},
   "outputs": [
    {
     "data": {
      "text/plain": [
       "array([0.1       , 0.27272727, 0.44545455, 0.61818182, 0.79090909,\n",
       "       0.96363636, 1.13636364, 1.30909091, 1.48181818, 1.65454545,\n",
       "       1.82727273, 2.        ])"
      ]
     },
     "execution_count": 50,
     "metadata": {},
     "output_type": "execute_result"
    }
   ],
   "source": [
    "np.linspace(0.1,2,12)"
   ]
  },
  {
   "cell_type": "code",
   "execution_count": 51,
   "metadata": {},
   "outputs": [
    {
     "data": {
      "text/plain": [
       "0.17272727272727273"
      ]
     },
     "execution_count": 51,
     "metadata": {},
     "output_type": "execute_result"
    }
   ],
   "source": [
    "(2-0.1)/11"
   ]
  },
  {
   "cell_type": "code",
   "execution_count": 51,
   "metadata": {},
   "outputs": [],
   "source": [
    "Dprueba.columns=['x','y']\n",
    "#Dprueba = Dprueba[:10]"
   ]
  },
  {
   "cell_type": "code",
   "execution_count": 52,
   "metadata": {},
   "outputs": [],
   "source": [
    "Dprueba.x = Dprueba.x.astype(float)\n",
    "Dprueba.y = Dprueba.y.astype(float)"
   ]
  },
  {
   "cell_type": "code",
   "execution_count": 53,
   "metadata": {},
   "outputs": [],
   "source": [
    "df = DAncpmt.append(DAnsatz,ignore_index=True)\n",
    "df.columns=['x','y']"
   ]
  },
  {
   "cell_type": "code",
   "execution_count": 35,
   "metadata": {},
   "outputs": [
    {
     "data": {
      "text/html": [
       "<div>\n",
       "<style scoped>\n",
       "    .dataframe tbody tr th:only-of-type {\n",
       "        vertical-align: middle;\n",
       "    }\n",
       "\n",
       "    .dataframe tbody tr th {\n",
       "        vertical-align: top;\n",
       "    }\n",
       "\n",
       "    .dataframe thead th {\n",
       "        text-align: right;\n",
       "    }\n",
       "</style>\n",
       "<table border=\"1\" class=\"dataframe\">\n",
       "  <thead>\n",
       "    <tr style=\"text-align: right;\">\n",
       "      <th></th>\n",
       "      <th>x</th>\n",
       "      <th>y</th>\n",
       "    </tr>\n",
       "  </thead>\n",
       "  <tbody>\n",
       "    <tr>\n",
       "      <th>0</th>\n",
       "      <td>0.0100</td>\n",
       "      <td>1.619404</td>\n",
       "    </tr>\n",
       "    <tr>\n",
       "      <th>1</th>\n",
       "      <td>0.3600</td>\n",
       "      <td>1.708255</td>\n",
       "    </tr>\n",
       "    <tr>\n",
       "      <th>2</th>\n",
       "      <td>0.7225</td>\n",
       "      <td>2.905222</td>\n",
       "    </tr>\n",
       "  </tbody>\n",
       "</table>\n",
       "</div>"
      ],
      "text/plain": [
       "        x         y\n",
       "0  0.0100  1.619404\n",
       "1  0.3600  1.708255\n",
       "2  0.7225  2.905222"
      ]
     },
     "execution_count": 35,
     "metadata": {},
     "output_type": "execute_result"
    }
   ],
   "source": [
    "Dpoints.columns=['x','y']\n",
    "Dpoints"
   ]
  },
  {
   "cell_type": "code",
   "execution_count": 7,
   "metadata": {},
   "outputs": [
    {
     "data": {
      "image/png": "[encoded data removed]",
      "text/plain": [
       "<Figure size 576x576 with 1 Axes>"
      ]
     },
     "metadata": {},
     "output_type": "display_data"
    }
   ],
   "source": [
    "plt.figure(figsize=(8,8))\n",
    "plt.plot(Dpoints.x,Dpoints.y,'ro-')\n",
    "plt.ylabel('Z(Displaced Thermal)', fontsize=18)\n",
    "plt.xlabel(r'$|\\alpha|^2$', fontsize=18)\n",
    "plt.tick_params(labelsize=12,width=1)\n",
    "#plt.savefig('DisplacedThermal.pdf')\n",
    "plt.show()"
   ]
  },
  {
   "cell_type": "code",
   "execution_count": 55,
   "metadata": {},
   "outputs": [
    {
     "data": {
      "image/png": "[encoded data removed]",
      "text/plain": [
       "<Figure size 576x576 with 1 Axes>"
      ]
     },
     "metadata": {
      "needs_background": "light"
     },
     "output_type": "display_data"
    }
   ],
   "source": [
    "#plt.figure(figsize= (2.5,2))\n",
    "plt.figure(figsize=(8,8))\n",
    "plt.plot(np.sqrt(Dprueba.x[:9]),Dprueba.y[:9],'ro', markersize=2)\n",
    "plt.plot(np.sqrt(df.x[:29]),df.y[:29],'b-',linewidth=0.7)\n",
    "#plt.plot(np.sqrt(Dprueba.x[:8]),Dprueba.y[:8],'ro', markersize=5)\n",
    "#plt.plot(np.sqrt(df.x[:29]),df.y[:29],'b-',linewidth=1)\n",
    "\n",
    "#plt.plot(Dprueba.x[9:],Dprueba.y[9:],'ro')\n",
    "#plt.ylabel('Z(Displaced Thermal)', fontsize=18)\n",
    "#plt.xlabel(r'$|\\alpha|$', fontsize=18)\n",
    "plt.tick_params(labelsize=7,width=0.5)\n",
    "#plt.tick_params(labelsize=12,width=1)\n",
    "plt.savefig('DisplacedThermal-test.pdf')\n",
    "plt.show()"
   ]
  },
  {
   "cell_type": "code",
   "execution_count": 25,
   "metadata": {},
   "outputs": [
    {
     "data": {
      "text/plain": [
       "0.14444444444444446"
      ]
     },
     "execution_count": 25,
     "metadata": {},
     "output_type": "execute_result"
    }
   ],
   "source": [
    "np.linspace(0.1,1.4,10)\n",
    "1.3/9"
   ]
  },
  {
   "cell_type": "code",
   "execution_count": 10,
   "metadata": {},
   "outputs": [
    {
     "data": {
      "text/plain": [
       "0     0.050000\n",
       "1     0.094371\n",
       "2     0.138743\n",
       "3     0.183114\n",
       "4     0.227485\n",
       "5     0.271857\n",
       "6     0.316228\n",
       "7     0.447214\n",
       "8     0.547723\n",
       "9     0.632456\n",
       "10    0.707107\n",
       "11    0.774597\n",
       "12    0.836660\n",
       "13    0.894427\n",
       "14    0.948683\n",
       "15    1.000000\n",
       "16    1.048809\n",
       "17    1.095445\n",
       "18    1.140175\n",
       "19    1.183216\n",
       "20    1.224745\n",
       "21    1.264911\n",
       "22    1.303840\n",
       "23    1.341641\n",
       "24    1.378405\n",
       "25    1.414214\n",
       "26    1.449138\n",
       "27    1.483240\n",
       "28    1.516575\n",
       "29    1.549193\n",
       "30    1.581139\n",
       "31    1.612452\n",
       "32    1.643168\n",
       "33    1.673320\n",
       "34    1.702939\n",
       "35    1.732051\n",
       "Name: x, dtype: float64"
      ]
     },
     "execution_count": 10,
     "metadata": {},
     "output_type": "execute_result"
    }
   ],
   "source": [
    "np.sqrt(df.x)"
   ]
  },
  {
   "cell_type": "code",
   "execution_count": 24,
   "metadata": {},
   "outputs": [
    {
     "data": {
      "text/plain": [
       "array([0.0025    , 0.00890595, 0.01924953, 0.03353074, 0.05174958,\n",
       "       0.07390605, 0.10000015])"
      ]
     },
     "execution_count": 24,
     "metadata": {},
     "output_type": "execute_result"
    }
   ],
   "source": [
    "np.power(np.linspace(0.05,0.316228,7),2)"
   ]
  },
  {
   "cell_type": "code",
   "execution_count": 26,
   "metadata": {},
   "outputs": [
    {
     "data": {
      "text/plain": [
       "array([0.01      , 0.07438017, 0.19842975, 0.38214876, 0.62553719,\n",
       "       0.92859504, 1.29132231, 1.71371901, 2.19578512, 2.73752066,\n",
       "       3.33892562, 4.        ])"
      ]
     },
     "execution_count": 26,
     "metadata": {},
     "output_type": "execute_result"
    }
   ],
   "source": [
    "np.power(np.linspace(0.1,2,12),2)"
   ]
  },
  {
   "cell_type": "code",
   "execution_count": 72,
   "metadata": {},
   "outputs": [
    {
     "data": {
      "text/plain": [
       "array([0.1       , 0.27272727, 0.44545455, 0.61818182, 0.79090909,\n",
       "       0.96363636, 1.13636364, 1.30909091, 1.48181818, 1.65454545,\n",
       "       1.82727273, 2.        ])"
      ]
     },
     "execution_count": 72,
     "metadata": {},
     "output_type": "execute_result"
    }
   ],
   "source": [
    "np.linspace(0.1,2,12)"
   ]
  },
  {
   "cell_type": "code",
   "execution_count": 33,
   "metadata": {},
   "outputs": [
    {
     "data": {
      "text/plain": [
       "array([0.01      , 0.35795474, 0.70590948, 1.05386422, 1.40181896,\n",
       "       1.7497737 , 2.09772844, 2.44568318, 2.79363791, 3.14159265])"
      ]
     },
     "execution_count": 33,
     "metadata": {},
     "output_type": "execute_result"
    }
   ],
   "source": [
    "np.linspace(0.01,np.pi,10)"
   ]
  },
  {
   "cell_type": "code",
   "execution_count": 30,
   "metadata": {},
   "outputs": [
    {
     "data": {
      "text/html": [
       "<div>\n",
       "<style scoped>\n",
       "    .dataframe tbody tr th:only-of-type {\n",
       "        vertical-align: middle;\n",
       "    }\n",
       "\n",
       "    .dataframe tbody tr th {\n",
       "        vertical-align: top;\n",
       "    }\n",
       "\n",
       "    .dataframe thead th {\n",
       "        text-align: right;\n",
       "    }\n",
       "</style>\n",
       "<table border=\"1\" class=\"dataframe\">\n",
       "  <thead>\n",
       "    <tr style=\"text-align: right;\">\n",
       "      <th></th>\n",
       "      <th>x</th>\n",
       "      <th>y</th>\n",
       "    </tr>\n",
       "  </thead>\n",
       "  <tbody>\n",
       "    <tr>\n",
       "      <th>0</th>\n",
       "      <td>0.002500</td>\n",
       "      <td>1.620322</td>\n",
       "    </tr>\n",
       "    <tr>\n",
       "      <th>1</th>\n",
       "      <td>0.008906</td>\n",
       "      <td>1.620322</td>\n",
       "    </tr>\n",
       "    <tr>\n",
       "      <th>2</th>\n",
       "      <td>0.019250</td>\n",
       "      <td>1.620322</td>\n",
       "    </tr>\n",
       "    <tr>\n",
       "      <th>3</th>\n",
       "      <td>0.033531</td>\n",
       "      <td>1.620322</td>\n",
       "    </tr>\n",
       "    <tr>\n",
       "      <th>4</th>\n",
       "      <td>0.051750</td>\n",
       "      <td>1.620322</td>\n",
       "    </tr>\n",
       "    <tr>\n",
       "      <th>5</th>\n",
       "      <td>0.073906</td>\n",
       "      <td>1.620322</td>\n",
       "    </tr>\n",
       "  </tbody>\n",
       "</table>\n",
       "</div>"
      ],
      "text/plain": [
       "          x         y\n",
       "0  0.002500  1.620322\n",
       "1  0.008906  1.620322\n",
       "2  0.019250  1.620322\n",
       "3  0.033531  1.620322\n",
       "4  0.051750  1.620322\n",
       "5  0.073906  1.620322"
      ]
     },
     "execution_count": 30,
     "metadata": {},
     "output_type": "execute_result"
    }
   ],
   "source": [
    "DAncpmt"
   ]
  },
  {
   "cell_type": "code",
   "execution_count": 7,
   "metadata": {},
   "outputs": [
    {
     "data": {
      "text/html": [
       "<div>\n",
       "<style scoped>\n",
       "    .dataframe tbody tr th:only-of-type {\n",
       "        vertical-align: middle;\n",
       "    }\n",
       "\n",
       "    .dataframe tbody tr th {\n",
       "        vertical-align: top;\n",
       "    }\n",
       "\n",
       "    .dataframe thead th {\n",
       "        text-align: right;\n",
       "    }\n",
       "</style>\n",
       "<table border=\"1\" class=\"dataframe\">\n",
       "  <thead>\n",
       "    <tr style=\"text-align: right;\">\n",
       "      <th></th>\n",
       "      <th>x</th>\n",
       "      <th>y</th>\n",
       "    </tr>\n",
       "  </thead>\n",
       "  <tbody>\n",
       "    <tr>\n",
       "      <th>0</th>\n",
       "      <td>0.002500</td>\n",
       "      <td>1.620322</td>\n",
       "    </tr>\n",
       "    <tr>\n",
       "      <th>1</th>\n",
       "      <td>0.008906</td>\n",
       "      <td>1.620322</td>\n",
       "    </tr>\n",
       "    <tr>\n",
       "      <th>2</th>\n",
       "      <td>0.019250</td>\n",
       "      <td>1.620322</td>\n",
       "    </tr>\n",
       "    <tr>\n",
       "      <th>3</th>\n",
       "      <td>0.033531</td>\n",
       "      <td>1.620322</td>\n",
       "    </tr>\n",
       "    <tr>\n",
       "      <th>4</th>\n",
       "      <td>0.051750</td>\n",
       "      <td>1.620322</td>\n",
       "    </tr>\n",
       "    <tr>\n",
       "      <th>5</th>\n",
       "      <td>0.073906</td>\n",
       "      <td>1.620322</td>\n",
       "    </tr>\n",
       "    <tr>\n",
       "      <th>6</th>\n",
       "      <td>0.100000</td>\n",
       "      <td>1.620322</td>\n",
       "    </tr>\n",
       "    <tr>\n",
       "      <th>7</th>\n",
       "      <td>0.200000</td>\n",
       "      <td>1.620325</td>\n",
       "    </tr>\n",
       "    <tr>\n",
       "      <th>8</th>\n",
       "      <td>0.300000</td>\n",
       "      <td>1.620346</td>\n",
       "    </tr>\n",
       "    <tr>\n",
       "      <th>9</th>\n",
       "      <td>0.400000</td>\n",
       "      <td>1.620416</td>\n",
       "    </tr>\n",
       "    <tr>\n",
       "      <th>10</th>\n",
       "      <td>0.500000</td>\n",
       "      <td>1.620567</td>\n",
       "    </tr>\n",
       "    <tr>\n",
       "      <th>11</th>\n",
       "      <td>0.600000</td>\n",
       "      <td>1.620827</td>\n",
       "    </tr>\n",
       "    <tr>\n",
       "      <th>12</th>\n",
       "      <td>0.700000</td>\n",
       "      <td>1.621211</td>\n",
       "    </tr>\n",
       "    <tr>\n",
       "      <th>13</th>\n",
       "      <td>0.800000</td>\n",
       "      <td>1.621721</td>\n",
       "    </tr>\n",
       "    <tr>\n",
       "      <th>14</th>\n",
       "      <td>0.900000</td>\n",
       "      <td>1.622353</td>\n",
       "    </tr>\n",
       "    <tr>\n",
       "      <th>15</th>\n",
       "      <td>1.000000</td>\n",
       "      <td>1.623091</td>\n",
       "    </tr>\n",
       "    <tr>\n",
       "      <th>16</th>\n",
       "      <td>1.100000</td>\n",
       "      <td>1.623918</td>\n",
       "    </tr>\n",
       "    <tr>\n",
       "      <th>17</th>\n",
       "      <td>1.200000</td>\n",
       "      <td>1.624812</td>\n",
       "    </tr>\n",
       "    <tr>\n",
       "      <th>18</th>\n",
       "      <td>1.300000</td>\n",
       "      <td>1.625751</td>\n",
       "    </tr>\n",
       "    <tr>\n",
       "      <th>19</th>\n",
       "      <td>1.400000</td>\n",
       "      <td>1.626712</td>\n",
       "    </tr>\n",
       "    <tr>\n",
       "      <th>20</th>\n",
       "      <td>1.500000</td>\n",
       "      <td>1.627675</td>\n",
       "    </tr>\n",
       "    <tr>\n",
       "      <th>21</th>\n",
       "      <td>1.600000</td>\n",
       "      <td>1.628619</td>\n",
       "    </tr>\n",
       "    <tr>\n",
       "      <th>22</th>\n",
       "      <td>1.700000</td>\n",
       "      <td>1.629525</td>\n",
       "    </tr>\n",
       "    <tr>\n",
       "      <th>23</th>\n",
       "      <td>1.800000</td>\n",
       "      <td>1.630380</td>\n",
       "    </tr>\n",
       "    <tr>\n",
       "      <th>24</th>\n",
       "      <td>1.900000</td>\n",
       "      <td>1.631169</td>\n",
       "    </tr>\n",
       "    <tr>\n",
       "      <th>25</th>\n",
       "      <td>2.000000</td>\n",
       "      <td>1.631884</td>\n",
       "    </tr>\n",
       "    <tr>\n",
       "      <th>26</th>\n",
       "      <td>2.100000</td>\n",
       "      <td>1.632518</td>\n",
       "    </tr>\n",
       "    <tr>\n",
       "      <th>27</th>\n",
       "      <td>2.200000</td>\n",
       "      <td>1.633066</td>\n",
       "    </tr>\n",
       "    <tr>\n",
       "      <th>28</th>\n",
       "      <td>2.300000</td>\n",
       "      <td>1.633527</td>\n",
       "    </tr>\n",
       "    <tr>\n",
       "      <th>29</th>\n",
       "      <td>2.400000</td>\n",
       "      <td>1.633903</td>\n",
       "    </tr>\n",
       "    <tr>\n",
       "      <th>30</th>\n",
       "      <td>2.500000</td>\n",
       "      <td>1.634194</td>\n",
       "    </tr>\n",
       "    <tr>\n",
       "      <th>31</th>\n",
       "      <td>2.600000</td>\n",
       "      <td>1.634406</td>\n",
       "    </tr>\n",
       "    <tr>\n",
       "      <th>32</th>\n",
       "      <td>2.700000</td>\n",
       "      <td>1.634544</td>\n",
       "    </tr>\n",
       "    <tr>\n",
       "      <th>33</th>\n",
       "      <td>2.800000</td>\n",
       "      <td>1.634613</td>\n",
       "    </tr>\n",
       "    <tr>\n",
       "      <th>34</th>\n",
       "      <td>2.900000</td>\n",
       "      <td>1.634620</td>\n",
       "    </tr>\n",
       "    <tr>\n",
       "      <th>35</th>\n",
       "      <td>3.000000</td>\n",
       "      <td>1.634569</td>\n",
       "    </tr>\n",
       "  </tbody>\n",
       "</table>\n",
       "</div>"
      ],
      "text/plain": [
       "           x         y\n",
       "0   0.002500  1.620322\n",
       "1   0.008906  1.620322\n",
       "2   0.019250  1.620322\n",
       "3   0.033531  1.620322\n",
       "4   0.051750  1.620322\n",
       "5   0.073906  1.620322\n",
       "6   0.100000  1.620322\n",
       "7   0.200000  1.620325\n",
       "8   0.300000  1.620346\n",
       "9   0.400000  1.620416\n",
       "10  0.500000  1.620567\n",
       "11  0.600000  1.620827\n",
       "12  0.700000  1.621211\n",
       "13  0.800000  1.621721\n",
       "14  0.900000  1.622353\n",
       "15  1.000000  1.623091\n",
       "16  1.100000  1.623918\n",
       "17  1.200000  1.624812\n",
       "18  1.300000  1.625751\n",
       "19  1.400000  1.626712\n",
       "20  1.500000  1.627675\n",
       "21  1.600000  1.628619\n",
       "22  1.700000  1.629525\n",
       "23  1.800000  1.630380\n",
       "24  1.900000  1.631169\n",
       "25  2.000000  1.631884\n",
       "26  2.100000  1.632518\n",
       "27  2.200000  1.633066\n",
       "28  2.300000  1.633527\n",
       "29  2.400000  1.633903\n",
       "30  2.500000  1.634194\n",
       "31  2.600000  1.634406\n",
       "32  2.700000  1.634544\n",
       "33  2.800000  1.634613\n",
       "34  2.900000  1.634620\n",
       "35  3.000000  1.634569"
      ]
     },
     "execution_count": 7,
     "metadata": {},
     "output_type": "execute_result"
    }
   ],
   "source": [
    "df = DAncpmt.append(DAnsatz,ignore_index=True)\n",
    "df"
   ]
  },
  {
   "cell_type": "code",
   "execution_count": 33,
   "metadata": {},
   "outputs": [
    {
     "data": {
      "image/png": "[encoded data removed]",
      "text/plain": [
       "<Figure size 576x576 with 1 Axes>"
      ]
     },
     "metadata": {
      "needs_background": "light"
     },
     "output_type": "display_data"
    }
   ],
   "source": [
    "plt.figure(figsize=(8,8))\n",
    "plt.plot(np.sqrt(df.x),df.y,'r-')\n",
    "#plt.plot(DAncpmt.x,DAncpmt.y,'r-')\n",
    "#plt.plot(Dprueba.x[9:],Dprueba.y[9:],'ro')\n",
    "plt.ylabel('Z(Displaced Thermal)', fontsize=18)\n",
    "plt.xlabel(r'$|\\alpha|^2$', fontsize=18)\n",
    "plt.tick_params(labelsize=12,width=1)\n",
    "#plt.savefig('DisplacedThermal-test.pdf')\n",
    "plt.show()"
   ]
  },
  {
   "cell_type": "code",
   "execution_count": 49,
   "metadata": {},
   "outputs": [],
   "source": [
    "DQubit = pd.read_csv('Qubit-tests.dat', header=None, sep=',')"
   ]
  },
  {
   "cell_type": "code",
   "execution_count": 50,
   "metadata": {},
   "outputs": [],
   "source": [
    "DQubit.columns=['x','y']"
   ]
  },
  {
   "cell_type": "code",
   "execution_count": 51,
   "metadata": {},
   "outputs": [
    {
     "data": {
      "text/html": [
       "<div>\n",
       "<style scoped>\n",
       "    .dataframe tbody tr th:only-of-type {\n",
       "        vertical-align: middle;\n",
       "    }\n",
       "\n",
       "    .dataframe tbody tr th {\n",
       "        vertical-align: top;\n",
       "    }\n",
       "\n",
       "    .dataframe thead th {\n",
       "        text-align: right;\n",
       "    }\n",
       "</style>\n",
       "<table border=\"1\" class=\"dataframe\">\n",
       "  <thead>\n",
       "    <tr style=\"text-align: right;\">\n",
       "      <th></th>\n",
       "      <th>x</th>\n",
       "      <th>y</th>\n",
       "    </tr>\n",
       "  </thead>\n",
       "  <tbody>\n",
       "    <tr>\n",
       "      <th>20</th>\n",
       "      <td>0.010000</td>\n",
       "      <td>0.000011</td>\n",
       "    </tr>\n",
       "    <tr>\n",
       "      <th>21</th>\n",
       "      <td>0.357955</td>\n",
       "      <td>0.018476</td>\n",
       "    </tr>\n",
       "    <tr>\n",
       "      <th>22</th>\n",
       "      <td>0.705909</td>\n",
       "      <td>0.043706</td>\n",
       "    </tr>\n",
       "    <tr>\n",
       "      <th>23</th>\n",
       "      <td>1.053864</td>\n",
       "      <td>0.097776</td>\n",
       "    </tr>\n",
       "    <tr>\n",
       "      <th>24</th>\n",
       "      <td>1.401819</td>\n",
       "      <td>0.180899</td>\n",
       "    </tr>\n",
       "    <tr>\n",
       "      <th>25</th>\n",
       "      <td>1.749774</td>\n",
       "      <td>0.100161</td>\n",
       "    </tr>\n",
       "    <tr>\n",
       "      <th>26</th>\n",
       "      <td>2.097728</td>\n",
       "      <td>0.113618</td>\n",
       "    </tr>\n",
       "    <tr>\n",
       "      <th>27</th>\n",
       "      <td>2.445683</td>\n",
       "      <td>0.043668</td>\n",
       "    </tr>\n",
       "    <tr>\n",
       "      <th>28</th>\n",
       "      <td>2.793638</td>\n",
       "      <td>0.020474</td>\n",
       "    </tr>\n",
       "    <tr>\n",
       "      <th>29</th>\n",
       "      <td>3.141593</td>\n",
       "      <td>0.000000</td>\n",
       "    </tr>\n",
       "  </tbody>\n",
       "</table>\n",
       "</div>"
      ],
      "text/plain": [
       "           x         y\n",
       "20  0.010000  0.000011\n",
       "21  0.357955  0.018476\n",
       "22  0.705909  0.043706\n",
       "23  1.053864  0.097776\n",
       "24  1.401819  0.180899\n",
       "25  1.749774  0.100161\n",
       "26  2.097728  0.113618\n",
       "27  2.445683  0.043668\n",
       "28  2.793638  0.020474\n",
       "29  3.141593  0.000000"
      ]
     },
     "execution_count": 51,
     "metadata": {},
     "output_type": "execute_result"
    }
   ],
   "source": [
    "DQubit[20:]"
   ]
  },
  {
   "cell_type": "code",
   "execution_count": 4,
   "metadata": {},
   "outputs": [],
   "source": [
    "xZ = np.linspace(0,np.pi,200)\n",
    "yZ = 1-np.absolute(np.cos(xZ))"
   ]
  },
  {
   "cell_type": "code",
   "execution_count": 8,
   "metadata": {},
   "outputs": [],
   "source": [
    "xmilext = np.array([0, 0.330694, 0.661388, 0.992082, 1.32278, np.pi/2, 1.777478,1.98416, 2.31486,2.64555, 2.97625, np.pi]) \n",
    "ymilext = np.array([0, 0.05656700, 0.219173, 0.47451, 0.78086, 0.9999999989, 0.8214977244, 0.6198, 0.3332258, 0.1247102, 0.01419, 0.0])"
   ]
  },
  {
   "cell_type": "code",
   "execution_count": 6,
   "metadata": {},
   "outputs": [],
   "source": [
    "ext1 = pd.read_csv('Qubit-VT1ExtCC.dat', header=None, sep=',')\n",
    "ext1.columns=['x','y']\n",
    "ext10 = pd.read_csv('Qubit-VT10ExtCC.dat', header=None, sep=',')\n",
    "ext10.columns=['x','y']\n",
    "#ext1000 = pd.read_csv('Qubit-tests1000.dat', header=None, sep=',')\n",
    "#ext1000.columns=['x','y']\n",
    "#int10 = pd.read_csv('Qubit-IntTests10.dat', header=None, sep=',')\n",
    "#int10.columns=['x','y']\n",
    "int1000 = pd.read_csv('Qubit-VT1000IntCC.dat', header=None, sep=',')\n",
    "int1000.columns=['x','y']\n",
    "naimvt10 = pd.read_csv('QubitNaimark-testsVT10.dat', header=None, sep=',')\n",
    "naimvt10.columns=['x','y']"
   ]
  },
  {
   "cell_type": "code",
   "execution_count": 7,
   "metadata": {},
   "outputs": [
    {
     "data": {
      "image/png": "[encoded data removed]",
      "text/plain": [
       "<Figure size 180x144 with 1 Axes>"
      ]
     },
     "metadata": {
      "needs_background": "light"
     },
     "output_type": "display_data"
    }
   ],
   "source": [
    "#plt.figure(figsize=(8,8))\n",
    "plt.figure(figsize= (2.5,2))\n",
    "#plt.plot(ext1000.x,ext1000.y,'kd',markersize=12)\n",
    "plt.plot(xZ,yZ, \"b-\",linewidth=0.7)\n",
    "plt.plot(ext1.x,ext1.y,'co',markersize=3.5)\n",
    "plt.plot(ext10.x,ext10.y,'rD',markersize=3)\n",
    "plt.plot(naimvt10.x,naimvt10.y,'gs',markersize=2)\n",
    "plt.plot(int1000.x,int1000.y,'m^',markersize=2)\n",
    "#plt.ylabel('Z(Displaced Thermal)', fontsize=18)\n",
    "#plt.xlabel(r'$\\eta$', fontsize=18)\n",
    "#plt.tick_params(labelsize=12,width=1)\n",
    "plt.tick_params(labelsize=7,width=0.5)\n",
    "plt.savefig(\"Qubit1-10ext.pdf\")\n",
    "plt.show()"
   ]
  },
  {
   "cell_type": "code",
   "execution_count": 4,
   "metadata": {},
   "outputs": [],
   "source": [
    "IntCC10 = pd.read_csv('QubitCC-VT10Int.dat', header=None, sep=',')\n",
    "IntCC10.columns=['x','y']\n",
    "IntCC1000 = pd.read_csv('QubitCC-VT1000Int.dat', header=None, sep=',')\n",
    "IntCC1000.columns=['x','y']\n",
    "naimvt1000 = pd.read_csv('QubitNaimark-testsVT1000.dat', header=None, sep=',')\n",
    "naimvt1000.columns=['x','y']"
   ]
  },
  {
   "cell_type": "code",
   "execution_count": 6,
   "metadata": {},
   "outputs": [
    {
     "data": {
      "image/png": "[encoded data removed]",
      "text/plain": [
       "<Figure size 576x576 with 1 Axes>"
      ]
     },
     "metadata": {},
     "output_type": "display_data"
    }
   ],
   "source": [
    "plt.figure(figsize=(8,8))\n",
    "#plt.figure(figsize= (2.5,2))\n",
    "#plt.plot(ext1000.x,ext1000.y,'kd',markersize=12)\n",
    "plt.plot(xZ,yZ, \"b-\",linewidth=1)\n",
    "#plt.plot(ext1.x,ext1.y,'co',markersize=3.5)\n",
    "#plt.plot(ext10.x,ext10.y,'rD',markersize=3)\n",
    "plt.plot(naimvt1000.x,naimvt1000.y,'gs',markersize=5)\n",
    "plt.plot(int1000.x,int1000.y,'m^',markersize=5)\n",
    "#plt.plot(IntCC10.x,IntCC10.y,'k*',markersize=5)\n",
    "plt.plot(IntCC1000.x,IntCC1000.y,'ro',markersize=5)\n",
    "#plt.ylabel('Z(Displaced Thermal)', fontsize=18)\n",
    "#plt.xlabel(r'$\\eta$', fontsize=18)\n",
    "#plt.tick_params(labelsize=12,width=1)\n",
    "plt.tick_params(labelsize=12,width=0.5)\n",
    "plt.savefig(\"Qubit-3medidas.pdf\")\n",
    "plt.show()"
   ]
  },
  {
   "cell_type": "code",
   "execution_count": 27,
   "metadata": {},
   "outputs": [],
   "source": [
    "frsm = pd.read_csv('Qubit-testsFisherVariousInt.dat',header=None)\n",
    "tfrsm = pd.read_csv('tiemposQubitRSM.dat',header=None)\n",
    "tExt = pd.read_csv('/home/estebanmv/Documents/metrologylargo/datos/tiemposExtremales.dat',sep='\\n',header=None)\n",
    "chin = pd.read_csv('/home/estebanmv/Documents/metrologylargo/datos/effdat.dat',sep='\\n',header=None)\n",
    "fintcc = pd.read_csv('QubitCCtiempos-FishInt.dat',header=None)\n",
    "tintcc = pd.read_csv('tiemposQubitCC.dat',header=None)"
   ]
  },
  {
   "cell_type": "code",
   "execution_count": 3,
   "metadata": {},
   "outputs": [],
   "source": [
    "tBrF = pd.read_csv('/home/estebanmv/Documents/metrologylargo/datos/tiemposBrutalF.dat',sep='\\n',header=None)\n",
    "bf = pd.read_csv('/home/estebanmv/Documents/metrologylargo/datos/bruteforcedat.dat',sep='\\n',header=None)\n",
    "asymErr = pd.read_csv('/home/estebanmv/Documents/metrologylargo/datos/bruteforcedat_asymptotic.dat',sep='\\n',header=None)\n",
    "asymT = pd.read_csv('/home/estebanmv/Documents/metrologylargo/datos/tiemposBFasymptotic.dat',sep='\\n',header=None)\n",
    "bf = bf.append(1-asymErr)\n",
    "tBrF = tBrF.append(asymT)"
   ]
  },
  {
   "cell_type": "code",
   "execution_count": 29,
   "metadata": {
    "scrolled": true
   },
   "outputs": [
    {
     "data": {
      "image/png": "[encoded data removed]",
      "text/plain": [
       "<Figure size 360x360 with 1 Axes>"
      ]
     },
     "metadata": {},
     "output_type": "display_data"
    }
   ],
   "source": [
    "plt.figure(figsize= (5,5))\n",
    "x = [1,5,10,15,20,25,30,35,40,45,50] \n",
    "dots1, = plt.loglog(tfrsm,1-frsm,\"g^\",markersize=5)\n",
    "dots2, = plt.loglog(tExt,1-chin.iloc[:], \"bo\",markersize=5)\n",
    "dots3, = plt.loglog(tBrF, 1-bf.iloc[:], \"rs\", markersize=5)\n",
    "dots4, = plt.loglog(tintcc, 1-fintcc, \"m^\", markersize=5)\n",
    "plt.xlabel('Time', fontsize=18)\n",
    "plt.ylabel('Error', fontsize=18)\n",
    "plt.legend([dots2,dots1,dots3,dots4], ['$\\Delta_{RESM}$','Esteban-Chuang','Naimark dilation','Carlos-Chuang'],loc=3, fontsize=12)\n",
    "#plt.legend([dots2,dots1], ['      ','      '],loc=3, fontsize=5, frameon = False)\n",
    "plt.tick_params(labelsize=12)#,width=0.5)\n",
    "\n",
    "#plt.legend((dots1),('Algorithm'), scatterpoints=1)\n",
    "plt.savefig('timesRSMvsRESM.pdf')\n",
    "plt.show()"
   ]
  },
  {
   "cell_type": "code",
   "execution_count": 3,
   "metadata": {},
   "outputs": [
    {
     "data": {
      "text/plain": [
       "array([0.        , 0.26179939, 0.52359878, 0.78539816, 1.04719755,\n",
       "       1.30899694, 1.57079633, 1.83259571, 2.0943951 , 2.35619449,\n",
       "       2.61799388, 2.87979327, 3.14159265])"
      ]
     },
     "execution_count": 3,
     "metadata": {},
     "output_type": "execute_result"
    }
   ],
   "source": [
    "np.linspace(0,np.pi,13)"
   ]
  },
  {
   "cell_type": "code",
   "execution_count": 5,
   "metadata": {},
   "outputs": [
    {
     "data": {
      "text/plain": [
       "3.383253626942854"
      ]
     },
     "execution_count": 5,
     "metadata": {},
     "output_type": "execute_result"
    }
   ],
   "source": [
    "np.pi + np.pi/13"
   ]
  },
  {
   "cell_type": "code",
   "execution_count": 27,
   "metadata": {},
   "outputs": [],
   "source": [
    "fshr10 = pd.read_csv('Qubit-Fisher10Ext.dat', header=None, sep=',')\n",
    "fshr10.columns=['x','y']\n",
    "fshr1 = pd.read_csv('Qubit-Fisher1Ext.dat', header=None, sep=',')\n",
    "fshr1.columns=['x','y']\n",
    "fshr10Int = pd.read_csv('Qubit-testsFisher10Int.dat', header=None, sep=',')\n",
    "fshr10Int.columns=['x','y']\n",
    "fshr1000Int = pd.read_csv('Qubit-Fisher1000Int.dat', header=None, sep=',')\n",
    "fshr1000Int.columns=['x','y']\n",
    "naimfshr10 = pd.read_csv('QubitNaimark-testsFisher10.dat', header=None, sep=',')\n",
    "naimfshr10.columns=['x','y']\n",
    "#fshrrep10 = pd.read_csv('Qubit-repair10Ext.dat', header=None, sep=',')\n",
    "#fshrrep10.columns=['x','y']"
   ]
  },
  {
   "cell_type": "code",
   "execution_count": 18,
   "metadata": {},
   "outputs": [
    {
     "data": {
      "text/html": [
       "<div>\n",
       "<style scoped>\n",
       "    .dataframe tbody tr th:only-of-type {\n",
       "        vertical-align: middle;\n",
       "    }\n",
       "\n",
       "    .dataframe tbody tr th {\n",
       "        vertical-align: top;\n",
       "    }\n",
       "\n",
       "    .dataframe thead th {\n",
       "        text-align: right;\n",
       "    }\n",
       "</style>\n",
       "<table border=\"1\" class=\"dataframe\">\n",
       "  <thead>\n",
       "    <tr style=\"text-align: right;\">\n",
       "      <th></th>\n",
       "      <th>x</th>\n",
       "      <th>y</th>\n",
       "    </tr>\n",
       "  </thead>\n",
       "  <tbody>\n",
       "    <tr>\n",
       "      <th>0</th>\n",
       "      <td>0.00000</td>\n",
       "      <td>0.000000</td>\n",
       "    </tr>\n",
       "    <tr>\n",
       "      <th>1</th>\n",
       "      <td>0.24166</td>\n",
       "      <td>0.015139</td>\n",
       "    </tr>\n",
       "    <tr>\n",
       "      <th>2</th>\n",
       "      <td>0.48332</td>\n",
       "      <td>0.045399</td>\n",
       "    </tr>\n",
       "    <tr>\n",
       "      <th>3</th>\n",
       "      <td>0.72498</td>\n",
       "      <td>0.098976</td>\n",
       "    </tr>\n",
       "    <tr>\n",
       "      <th>4</th>\n",
       "      <td>0.96664</td>\n",
       "      <td>0.169494</td>\n",
       "    </tr>\n",
       "    <tr>\n",
       "      <th>5</th>\n",
       "      <td>1.20830</td>\n",
       "      <td>0.248065</td>\n",
       "    </tr>\n",
       "    <tr>\n",
       "      <th>6</th>\n",
       "      <td>1.44996</td>\n",
       "      <td>0.259019</td>\n",
       "    </tr>\n",
       "    <tr>\n",
       "      <th>7</th>\n",
       "      <td>1.57800</td>\n",
       "      <td>0.251092</td>\n",
       "    </tr>\n",
       "    <tr>\n",
       "      <th>8</th>\n",
       "      <td>1.69162</td>\n",
       "      <td>0.274650</td>\n",
       "    </tr>\n",
       "    <tr>\n",
       "      <th>9</th>\n",
       "      <td>1.93328</td>\n",
       "      <td>0.175923</td>\n",
       "    </tr>\n",
       "    <tr>\n",
       "      <th>10</th>\n",
       "      <td>2.17494</td>\n",
       "      <td>0.186971</td>\n",
       "    </tr>\n",
       "    <tr>\n",
       "      <th>11</th>\n",
       "      <td>2.41660</td>\n",
       "      <td>0.114393</td>\n",
       "    </tr>\n",
       "    <tr>\n",
       "      <th>12</th>\n",
       "      <td>2.65826</td>\n",
       "      <td>0.055391</td>\n",
       "    </tr>\n",
       "    <tr>\n",
       "      <th>13</th>\n",
       "      <td>2.89992</td>\n",
       "      <td>0.013597</td>\n",
       "    </tr>\n",
       "    <tr>\n",
       "      <th>14</th>\n",
       "      <td>3.14158</td>\n",
       "      <td>0.000000</td>\n",
       "    </tr>\n",
       "  </tbody>\n",
       "</table>\n",
       "</div>"
      ],
      "text/plain": [
       "          x         y\n",
       "0   0.00000  0.000000\n",
       "1   0.24166  0.015139\n",
       "2   0.48332  0.045399\n",
       "3   0.72498  0.098976\n",
       "4   0.96664  0.169494\n",
       "5   1.20830  0.248065\n",
       "6   1.44996  0.259019\n",
       "7   1.57800  0.251092\n",
       "8   1.69162  0.274650\n",
       "9   1.93328  0.175923\n",
       "10  2.17494  0.186971\n",
       "11  2.41660  0.114393\n",
       "12  2.65826  0.055391\n",
       "13  2.89992  0.013597\n",
       "14  3.14158  0.000000"
      ]
     },
     "execution_count": 18,
     "metadata": {},
     "output_type": "execute_result"
    }
   ],
   "source": [
    "fshr1000Int"
   ]
  },
  {
   "cell_type": "code",
   "execution_count": 14,
   "metadata": {},
   "outputs": [],
   "source": [
    "xW = np.linspace(0,np.pi,200)\n",
    "yW = np.power(np.sin(xW),2)"
   ]
  },
  {
   "cell_type": "code",
   "execution_count": 40,
   "metadata": {},
   "outputs": [
    {
     "data": {
      "image/png": "[encoded data removed]",
      "text/plain": [
       "<Figure size 180x144 with 1 Axes>"
      ]
     },
     "metadata": {},
     "output_type": "display_data"
    }
   ],
   "source": [
    "#plt.figure(figsize=(8,8))\n",
    "plt.figure(figsize= (2.5,2))\n",
    "#plt.plot(ext1000.x,ext1000.y,'kd',markersize=12)\n",
    "plt.plot(xW,yW, \"b-\",linewidth=1.2)\n",
    "plt.plot(fshr1.x,fshr1.y,'co',markersize=3.5)\n",
    "plt.plot(fshr10.x,fshr10.y,'rD',markersize=2)\n",
    "plt.plot(naimfshr10.x,naimfshr10.y,'gs',markersize=2)\n",
    "plt.plot(fshr1000Int.x,fshr1000Int.y,'m^',markersize=2)\n",
    "#plt.plot(fshrrep10.x,fshrrep10.y,'kD',markersize=5)\n",
    "#plt.ylabel('Z(Displaced Thermal)', fontsize=18)\n",
    "#plt.xlabel(r'$\\eta$', fontsize=18)\n",
    "#plt.tick_params(labelsize=12,width=1)\n",
    "plt.tick_params(labelsize=7,width=0.5)\n",
    "plt.savefig(\"Qubit-Fisher.pdf\")\n",
    "plt.show()"
   ]
  },
  {
   "cell_type": "code",
   "execution_count": 9,
   "metadata": {},
   "outputs": [
    {
     "data": {
      "text/plain": [
       "1.5707963267948966"
      ]
     },
     "execution_count": 9,
     "metadata": {},
     "output_type": "execute_result"
    }
   ],
   "source": [
    "np.pi/2"
   ]
  },
  {
   "cell_type": "code",
   "execution_count": 38,
   "metadata": {},
   "outputs": [],
   "source": [
    "vtresm = pd.read_csv('Qubit-VTErrtimes.dat',header=None)\n",
    "tvtresm = pd.read_csv('tiemposQubitRSMErrtimes.dat',header=None)\n",
    "vtresm.columns = ['x','y']\n",
    "vtnymr = pd.read_csv('QubitNaimark-VTErrtimes.dat',header=None)\n",
    "tvtnymr = pd.read_csv('tiemposQubitRSMNeymartimes.dat',header=None)\n",
    "vtnymr.columns = ['x','y']"
   ]
  },
  {
   "cell_type": "code",
   "execution_count": 36,
   "metadata": {},
   "outputs": [
    {
     "data": {
      "text/html": [
       "<div>\n",
       "<style scoped>\n",
       "    .dataframe tbody tr th:only-of-type {\n",
       "        vertical-align: middle;\n",
       "    }\n",
       "\n",
       "    .dataframe tbody tr th {\n",
       "        vertical-align: top;\n",
       "    }\n",
       "\n",
       "    .dataframe thead th {\n",
       "        text-align: right;\n",
       "    }\n",
       "</style>\n",
       "<table border=\"1\" class=\"dataframe\">\n",
       "  <thead>\n",
       "    <tr style=\"text-align: right;\">\n",
       "      <th></th>\n",
       "      <th>x</th>\n",
       "      <th>y</th>\n",
       "    </tr>\n",
       "  </thead>\n",
       "  <tbody>\n",
       "    <tr>\n",
       "      <td>0</td>\n",
       "      <td>10</td>\n",
       "      <td>0.933637</td>\n",
       "    </tr>\n",
       "    <tr>\n",
       "      <td>1</td>\n",
       "      <td>30</td>\n",
       "      <td>0.994083</td>\n",
       "    </tr>\n",
       "    <tr>\n",
       "      <td>2</td>\n",
       "      <td>50</td>\n",
       "      <td>0.995200</td>\n",
       "    </tr>\n",
       "    <tr>\n",
       "      <td>3</td>\n",
       "      <td>70</td>\n",
       "      <td>0.999575</td>\n",
       "    </tr>\n",
       "    <tr>\n",
       "      <td>4</td>\n",
       "      <td>100</td>\n",
       "      <td>0.999654</td>\n",
       "    </tr>\n",
       "    <tr>\n",
       "      <td>5</td>\n",
       "      <td>150</td>\n",
       "      <td>0.999998</td>\n",
       "    </tr>\n",
       "    <tr>\n",
       "      <td>6</td>\n",
       "      <td>200</td>\n",
       "      <td>0.994807</td>\n",
       "    </tr>\n",
       "    <tr>\n",
       "      <td>7</td>\n",
       "      <td>500</td>\n",
       "      <td>0.999584</td>\n",
       "    </tr>\n",
       "    <tr>\n",
       "      <td>8</td>\n",
       "      <td>700</td>\n",
       "      <td>1.000000</td>\n",
       "    </tr>\n",
       "  </tbody>\n",
       "</table>\n",
       "</div>"
      ],
      "text/plain": [
       "     x         y\n",
       "0   10  0.933637\n",
       "1   30  0.994083\n",
       "2   50  0.995200\n",
       "3   70  0.999575\n",
       "4  100  0.999654\n",
       "5  150  0.999998\n",
       "6  200  0.994807\n",
       "7  500  0.999584\n",
       "8  700  1.000000"
      ]
     },
     "execution_count": 36,
     "metadata": {},
     "output_type": "execute_result"
    }
   ],
   "source": [
    "vtresm"
   ]
  },
  {
   "cell_type": "code",
   "execution_count": 45,
   "metadata": {},
   "outputs": [
    {
     "data": {
      "image/png": "[encoded data removed]",
      "text/plain": [
       "<Figure size 180x144 with 1 Axes>"
      ]
     },
     "metadata": {
      "needs_background": "light"
     },
     "output_type": "display_data"
    }
   ],
   "source": [
    "plt.figure(figsize= (2.5,2))\n",
    "x = [1,5,10,15,20,25,30,35,40,45,50] \n",
    "plt.loglog(tvtresm,1-vtresm.y,\"b^\",markersize=2)\n",
    "plt.tick_params(labelsize=7,width=0.5)\n",
    "plt.loglog(tvtnymr,1-vtnymr.y,\"ro\",markersize=2)\n",
    "\n",
    "#plt.legend((dots1),('Algorithm'), scatterpoints=1)\n",
    "plt.savefig('Tiempos-ErrorNymrCCAlg.pdf')\n",
    "plt.show()"
   ]
  },
  {
   "cell_type": "code",
   "execution_count": 5,
   "metadata": {},
   "outputs": [],
   "source": [
    "CAlg = pd.read_csv('CC-Coherent/ExtremalCoherent-redo.dat', header=None, sep=',')\n",
    "CAlg.columns = ['x', 'y']"
   ]
  },
  {
   "cell_type": "code",
   "execution_count": 6,
   "metadata": {},
   "outputs": [
    {
     "data": {
      "text/html": [
       "<div>\n",
       "<style scoped>\n",
       "    .dataframe tbody tr th:only-of-type {\n",
       "        vertical-align: middle;\n",
       "    }\n",
       "\n",
       "    .dataframe tbody tr th {\n",
       "        vertical-align: top;\n",
       "    }\n",
       "\n",
       "    .dataframe thead th {\n",
       "        text-align: right;\n",
       "    }\n",
       "</style>\n",
       "<table border=\"1\" class=\"dataframe\">\n",
       "  <thead>\n",
       "    <tr style=\"text-align: right;\">\n",
       "      <th></th>\n",
       "      <th>x</th>\n",
       "      <th>y</th>\n",
       "    </tr>\n",
       "  </thead>\n",
       "  <tbody>\n",
       "    <tr>\n",
       "      <td>0</td>\n",
       "      <td>0.010000</td>\n",
       "      <td>1.645180</td>\n",
       "    </tr>\n",
       "    <tr>\n",
       "      <td>1</td>\n",
       "      <td>0.074376</td>\n",
       "      <td>1.828450</td>\n",
       "    </tr>\n",
       "    <tr>\n",
       "      <td>2</td>\n",
       "      <td>0.198417</td>\n",
       "      <td>2.217521</td>\n",
       "    </tr>\n",
       "    <tr>\n",
       "      <td>3</td>\n",
       "      <td>0.382122</td>\n",
       "      <td>2.821818</td>\n",
       "    </tr>\n",
       "    <tr>\n",
       "      <td>4</td>\n",
       "      <td>0.625491</td>\n",
       "      <td>3.505417</td>\n",
       "    </tr>\n",
       "    <tr>\n",
       "      <td>5</td>\n",
       "      <td>0.928525</td>\n",
       "      <td>4.468242</td>\n",
       "    </tr>\n",
       "    <tr>\n",
       "      <td>6</td>\n",
       "      <td>1.291223</td>\n",
       "      <td>5.502291</td>\n",
       "    </tr>\n",
       "    <tr>\n",
       "      <td>7</td>\n",
       "      <td>1.713586</td>\n",
       "      <td>6.526473</td>\n",
       "    </tr>\n",
       "  </tbody>\n",
       "</table>\n",
       "</div>"
      ],
      "text/plain": [
       "          x         y\n",
       "0  0.010000  1.645180\n",
       "1  0.074376  1.828450\n",
       "2  0.198417  2.217521\n",
       "3  0.382122  2.821818\n",
       "4  0.625491  3.505417\n",
       "5  0.928525  4.468242\n",
       "6  1.291223  5.502291\n",
       "7  1.713586  6.526473"
      ]
     },
     "execution_count": 6,
     "metadata": {},
     "output_type": "execute_result"
    }
   ],
   "source": [
    "CAlg"
   ]
  },
  {
   "cell_type": "code",
   "execution_count": null,
   "metadata": {},
   "outputs": [],
   "source": []
  }
 ],
 "metadata": {
  "kernelspec": {
   "display_name": "Python 3",
   "language": "python",
   "name": "python3"
  },
  "language_info": {
   "codemirror_mode": {
    "name": "ipython",
    "version": 3
   },
   "file_extension": ".py",
   "mimetype": "text/x-python",
   "name": "python",
   "nbconvert_exporter": "python",
   "pygments_lexer": "ipython3",
   "version": "3.7.4"
  }
 },
 "nbformat": 4,
 "nbformat_minor": 2
}
