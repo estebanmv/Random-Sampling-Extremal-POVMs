{
 "cells": [
  {
   "cell_type": "code",
   "execution_count": 1,
   "metadata": {},
   "outputs": [],
   "source": [
    "import pandas as pd\n",
    "import numpy as np\n",
    "import matplotlib.pyplot as plt"
   ]
  },
  {
   "cell_type": "code",
   "execution_count": 45,
   "metadata": {},
   "outputs": [],
   "source": [
    "Dpoints = pd.read_csv('DisplacedThermal_highD.dat', header=None, sep=',')\n",
    "Dprueba = pd.read_csv('DisplacedThermalSqrt-tests.dat', header=None, sep=',')\n",
    "DAnsatz = pd.read_csv('AnsatzDisplacedThermal.dat', header=None, sep='\\t')"
   ]
  },
  {
   "cell_type": "code",
   "execution_count": 46,
   "metadata": {},
   "outputs": [],
   "source": [
    "DAncpmt = pd.read_csv('AnsatzDisplacedThermalcmpmt.dat',header=None, sep='\\t')"
   ]
  },
  {
   "cell_type": "code",
   "execution_count": 47,
   "metadata": {},
   "outputs": [
    {
     "data": {
      "text/plain": [
       "0    0.050000\n",
       "1    0.094371\n",
       "2    0.138743\n",
       "3    0.183114\n",
       "4    0.227485\n",
       "5    0.271857\n",
       "Name: x, dtype: float64"
      ]
     },
     "execution_count": 47,
     "metadata": {},
     "output_type": "execute_result"
    }
   ],
   "source": [
    "DAncpmt.columns=['x','y']\n",
    "np.sqrt(DAncpmt.x)"
   ]
  },
  {
   "cell_type": "code",
   "execution_count": 5,
   "metadata": {},
   "outputs": [
    {
     "data": {
      "text/plain": [
       "0     0.316228\n",
       "1     0.447214\n",
       "2     0.547723\n",
       "3     0.632456\n",
       "4     0.707107\n",
       "5     0.774597\n",
       "6     0.836660\n",
       "7     0.894427\n",
       "8     0.948683\n",
       "9     1.000000\n",
       "10    1.048809\n",
       "11    1.095445\n",
       "12    1.140175\n",
       "13    1.183216\n",
       "14    1.224745\n",
       "15    1.264911\n",
       "16    1.303840\n",
       "17    1.341641\n",
       "18    1.378405\n",
       "19    1.414214\n",
       "20    1.449138\n",
       "21    1.483240\n",
       "22    1.516575\n",
       "23    1.549193\n",
       "24    1.581139\n",
       "25    1.612452\n",
       "26    1.643168\n",
       "27    1.673320\n",
       "28    1.702939\n",
       "29    1.732051\n",
       "Name: x, dtype: float64"
      ]
     },
     "execution_count": 5,
     "metadata": {},
     "output_type": "execute_result"
    }
   ],
   "source": [
    "np.sqrt(DAnsatz.x)"
   ]
  },
  {
   "cell_type": "code",
   "execution_count": 8,
   "metadata": {},
   "outputs": [
    {
     "data": {
      "text/plain": [
       "0.31622776601683794"
      ]
     },
     "execution_count": 8,
     "metadata": {},
     "output_type": "execute_result"
    }
   ],
   "source": [
    "np.sqrt(0.1)"
   ]
  },
  {
   "cell_type": "code",
   "execution_count": 48,
   "metadata": {},
   "outputs": [],
   "source": [
    "DAnsatz.columns=['x','y']"
   ]
  },
  {
   "cell_type": "code",
   "execution_count": 4,
   "metadata": {},
   "outputs": [
    {
     "data": {
      "text/html": [
       "<div>\n",
       "<style scoped>\n",
       "    .dataframe tbody tr th:only-of-type {\n",
       "        vertical-align: middle;\n",
       "    }\n",
       "\n",
       "    .dataframe tbody tr th {\n",
       "        vertical-align: top;\n",
       "    }\n",
       "\n",
       "    .dataframe thead th {\n",
       "        text-align: right;\n",
       "    }\n",
       "</style>\n",
       "<table border=\"1\" class=\"dataframe\">\n",
       "  <thead>\n",
       "    <tr style=\"text-align: right;\">\n",
       "      <th></th>\n",
       "      <th>x</th>\n",
       "      <th>y</th>\n",
       "    </tr>\n",
       "  </thead>\n",
       "  <tbody>\n",
       "    <tr>\n",
       "      <th>0</th>\n",
       "      <td>0.1</td>\n",
       "      <td>1.620322</td>\n",
       "    </tr>\n",
       "    <tr>\n",
       "      <th>1</th>\n",
       "      <td>0.2</td>\n",
       "      <td>1.620325</td>\n",
       "    </tr>\n",
       "    <tr>\n",
       "      <th>2</th>\n",
       "      <td>0.3</td>\n",
       "      <td>1.620346</td>\n",
       "    </tr>\n",
       "    <tr>\n",
       "      <th>3</th>\n",
       "      <td>0.4</td>\n",
       "      <td>1.620416</td>\n",
       "    </tr>\n",
       "    <tr>\n",
       "      <th>4</th>\n",
       "      <td>0.5</td>\n",
       "      <td>1.620567</td>\n",
       "    </tr>\n",
       "    <tr>\n",
       "      <th>5</th>\n",
       "      <td>0.6</td>\n",
       "      <td>1.620827</td>\n",
       "    </tr>\n",
       "    <tr>\n",
       "      <th>6</th>\n",
       "      <td>0.7</td>\n",
       "      <td>1.621211</td>\n",
       "    </tr>\n",
       "    <tr>\n",
       "      <th>7</th>\n",
       "      <td>0.8</td>\n",
       "      <td>1.621721</td>\n",
       "    </tr>\n",
       "    <tr>\n",
       "      <th>8</th>\n",
       "      <td>0.9</td>\n",
       "      <td>1.622353</td>\n",
       "    </tr>\n",
       "    <tr>\n",
       "      <th>9</th>\n",
       "      <td>1.0</td>\n",
       "      <td>1.623091</td>\n",
       "    </tr>\n",
       "    <tr>\n",
       "      <th>10</th>\n",
       "      <td>1.1</td>\n",
       "      <td>1.623918</td>\n",
       "    </tr>\n",
       "    <tr>\n",
       "      <th>11</th>\n",
       "      <td>1.2</td>\n",
       "      <td>1.624812</td>\n",
       "    </tr>\n",
       "    <tr>\n",
       "      <th>12</th>\n",
       "      <td>1.3</td>\n",
       "      <td>1.625751</td>\n",
       "    </tr>\n",
       "    <tr>\n",
       "      <th>13</th>\n",
       "      <td>1.4</td>\n",
       "      <td>1.626712</td>\n",
       "    </tr>\n",
       "    <tr>\n",
       "      <th>14</th>\n",
       "      <td>1.5</td>\n",
       "      <td>1.627675</td>\n",
       "    </tr>\n",
       "    <tr>\n",
       "      <th>15</th>\n",
       "      <td>1.6</td>\n",
       "      <td>1.628619</td>\n",
       "    </tr>\n",
       "    <tr>\n",
       "      <th>16</th>\n",
       "      <td>1.7</td>\n",
       "      <td>1.629525</td>\n",
       "    </tr>\n",
       "    <tr>\n",
       "      <th>17</th>\n",
       "      <td>1.8</td>\n",
       "      <td>1.630380</td>\n",
       "    </tr>\n",
       "    <tr>\n",
       "      <th>18</th>\n",
       "      <td>1.9</td>\n",
       "      <td>1.631169</td>\n",
       "    </tr>\n",
       "    <tr>\n",
       "      <th>19</th>\n",
       "      <td>2.0</td>\n",
       "      <td>1.631884</td>\n",
       "    </tr>\n",
       "    <tr>\n",
       "      <th>20</th>\n",
       "      <td>2.1</td>\n",
       "      <td>1.632518</td>\n",
       "    </tr>\n",
       "    <tr>\n",
       "      <th>21</th>\n",
       "      <td>2.2</td>\n",
       "      <td>1.633066</td>\n",
       "    </tr>\n",
       "    <tr>\n",
       "      <th>22</th>\n",
       "      <td>2.3</td>\n",
       "      <td>1.633527</td>\n",
       "    </tr>\n",
       "    <tr>\n",
       "      <th>23</th>\n",
       "      <td>2.4</td>\n",
       "      <td>1.633903</td>\n",
       "    </tr>\n",
       "    <tr>\n",
       "      <th>24</th>\n",
       "      <td>2.5</td>\n",
       "      <td>1.634194</td>\n",
       "    </tr>\n",
       "    <tr>\n",
       "      <th>25</th>\n",
       "      <td>2.6</td>\n",
       "      <td>1.634406</td>\n",
       "    </tr>\n",
       "    <tr>\n",
       "      <th>26</th>\n",
       "      <td>2.7</td>\n",
       "      <td>1.634544</td>\n",
       "    </tr>\n",
       "    <tr>\n",
       "      <th>27</th>\n",
       "      <td>2.8</td>\n",
       "      <td>1.634613</td>\n",
       "    </tr>\n",
       "    <tr>\n",
       "      <th>28</th>\n",
       "      <td>2.9</td>\n",
       "      <td>1.634620</td>\n",
       "    </tr>\n",
       "    <tr>\n",
       "      <th>29</th>\n",
       "      <td>3.0</td>\n",
       "      <td>1.634569</td>\n",
       "    </tr>\n",
       "  </tbody>\n",
       "</table>\n",
       "</div>"
      ],
      "text/plain": [
       "      x         y\n",
       "0   0.1  1.620322\n",
       "1   0.2  1.620325\n",
       "2   0.3  1.620346\n",
       "3   0.4  1.620416\n",
       "4   0.5  1.620567\n",
       "5   0.6  1.620827\n",
       "6   0.7  1.621211\n",
       "7   0.8  1.621721\n",
       "8   0.9  1.622353\n",
       "9   1.0  1.623091\n",
       "10  1.1  1.623918\n",
       "11  1.2  1.624812\n",
       "12  1.3  1.625751\n",
       "13  1.4  1.626712\n",
       "14  1.5  1.627675\n",
       "15  1.6  1.628619\n",
       "16  1.7  1.629525\n",
       "17  1.8  1.630380\n",
       "18  1.9  1.631169\n",
       "19  2.0  1.631884\n",
       "20  2.1  1.632518\n",
       "21  2.2  1.633066\n",
       "22  2.3  1.633527\n",
       "23  2.4  1.633903\n",
       "24  2.5  1.634194\n",
       "25  2.6  1.634406\n",
       "26  2.7  1.634544\n",
       "27  2.8  1.634613\n",
       "28  2.9  1.634620\n",
       "29  3.0  1.634569"
      ]
     },
     "execution_count": 4,
     "metadata": {},
     "output_type": "execute_result"
    }
   ],
   "source": [
    "DAnsatz"
   ]
  },
  {
   "cell_type": "code",
   "execution_count": 49,
   "metadata": {},
   "outputs": [],
   "source": [
    "Dprueba.columns=['x','y']\n",
    "Dprueba = Dprueba[:10]"
   ]
  },
  {
   "cell_type": "code",
   "execution_count": 62,
   "metadata": {},
   "outputs": [],
   "source": [
    "Dprueba.x = Dprueba.x.astype(float)\n",
    "Dprueba.y = Dprueba.y.astype(float)"
   ]
  },
  {
   "cell_type": "code",
   "execution_count": 6,
   "metadata": {},
   "outputs": [
    {
     "data": {
      "text/html": [
       "<div>\n",
       "<style scoped>\n",
       "    .dataframe tbody tr th:only-of-type {\n",
       "        vertical-align: middle;\n",
       "    }\n",
       "\n",
       "    .dataframe tbody tr th {\n",
       "        vertical-align: top;\n",
       "    }\n",
       "\n",
       "    .dataframe thead th {\n",
       "        text-align: right;\n",
       "    }\n",
       "</style>\n",
       "<table border=\"1\" class=\"dataframe\">\n",
       "  <thead>\n",
       "    <tr style=\"text-align: right;\">\n",
       "      <th></th>\n",
       "      <th>x</th>\n",
       "      <th>y</th>\n",
       "    </tr>\n",
       "  </thead>\n",
       "  <tbody>\n",
       "    <tr>\n",
       "      <th>0</th>\n",
       "      <td>0.0100</td>\n",
       "      <td>1.619404</td>\n",
       "    </tr>\n",
       "    <tr>\n",
       "      <th>1</th>\n",
       "      <td>0.3600</td>\n",
       "      <td>1.708255</td>\n",
       "    </tr>\n",
       "    <tr>\n",
       "      <th>2</th>\n",
       "      <td>0.7225</td>\n",
       "      <td>2.905222</td>\n",
       "    </tr>\n",
       "  </tbody>\n",
       "</table>\n",
       "</div>"
      ],
      "text/plain": [
       "        x         y\n",
       "0  0.0100  1.619404\n",
       "1  0.3600  1.708255\n",
       "2  0.7225  2.905222"
      ]
     },
     "execution_count": 6,
     "metadata": {},
     "output_type": "execute_result"
    }
   ],
   "source": [
    "Dpoints.columns=['x','y']\n",
    "Dpoints"
   ]
  },
  {
   "cell_type": "code",
   "execution_count": 7,
   "metadata": {},
   "outputs": [
    {
     "data": {
      "image/png": "[encoded data removed]",
      "text/plain": [
       "<Figure size 576x576 with 1 Axes>"
      ]
     },
     "metadata": {},
     "output_type": "display_data"
    }
   ],
   "source": [
    "plt.figure(figsize=(8,8))\n",
    "plt.plot(Dpoints.x,Dpoints.y,'ro-')\n",
    "plt.ylabel('Z(Displaced Thermal)', fontsize=18)\n",
    "plt.xlabel(r'$|\\alpha|^2$', fontsize=18)\n",
    "plt.tick_params(labelsize=12,width=1)\n",
    "#plt.savefig('DisplacedThermal.pdf')\n",
    "plt.show()"
   ]
  },
  {
   "cell_type": "code",
   "execution_count": 71,
   "metadata": {},
   "outputs": [
    {
     "data": {
      "image/png": "[encoded data removed]",
      "text/plain": [
       "<Figure size 576x576 with 1 Axes>"
      ]
     },
     "metadata": {
      "needs_background": "light"
     },
     "output_type": "display_data"
    }
   ],
   "source": [
    "plt.figure(figsize=(8,8))\n",
    "plt.plot(np.sqrt(Dprueba.x[:8]),Dprueba.y[:8],'ro')\n",
    "plt.plot(np.sqrt(df.x[:29]),df.y[:29],'b-')\n",
    "#plt.plot(Dprueba.x[9:],Dprueba.y[9:],'ro')\n",
    "plt.ylabel('Z(Displaced Thermal)', fontsize=18)\n",
    "plt.xlabel(r'$|\\alpha|$', fontsize=18)\n",
    "plt.tick_params(labelsize=12,width=1)\n",
    "plt.savefig('DisplacedThermal-test.pdf')\n",
    "plt.show()"
   ]
  },
  {
   "cell_type": "code",
   "execution_count": 68,
   "metadata": {},
   "outputs": [
    {
     "data": {
      "text/plain": [
       "0     0.050000\n",
       "1     0.094371\n",
       "2     0.138743\n",
       "3     0.183114\n",
       "4     0.227485\n",
       "5     0.271857\n",
       "6     0.316228\n",
       "7     0.447214\n",
       "8     0.547723\n",
       "9     0.632456\n",
       "10    0.707107\n",
       "11    0.774597\n",
       "12    0.836660\n",
       "13    0.894427\n",
       "14    0.948683\n",
       "15    1.000000\n",
       "16    1.048809\n",
       "17    1.095445\n",
       "18    1.140175\n",
       "19    1.183216\n",
       "20    1.224745\n",
       "21    1.264911\n",
       "22    1.303840\n",
       "23    1.341641\n",
       "24    1.378405\n",
       "25    1.414214\n",
       "26    1.449138\n",
       "27    1.483240\n",
       "28    1.516575\n",
       "Name: x, dtype: float64"
      ]
     },
     "execution_count": 68,
     "metadata": {},
     "output_type": "execute_result"
    }
   ],
   "source": [
    "np.sqrt(df.x[:29])"
   ]
  },
  {
   "cell_type": "code",
   "execution_count": 24,
   "metadata": {},
   "outputs": [
    {
     "data": {
      "text/plain": [
       "array([0.0025    , 0.00890595, 0.01924953, 0.03353074, 0.05174958,\n",
       "       0.07390605, 0.10000015])"
      ]
     },
     "execution_count": 24,
     "metadata": {},
     "output_type": "execute_result"
    }
   ],
   "source": [
    "np.power(np.linspace(0.05,0.316228,7),2)"
   ]
  },
  {
   "cell_type": "code",
   "execution_count": 26,
   "metadata": {},
   "outputs": [
    {
     "data": {
      "text/plain": [
       "array([0.01      , 0.07438017, 0.19842975, 0.38214876, 0.62553719,\n",
       "       0.92859504, 1.29132231, 1.71371901, 2.19578512, 2.73752066,\n",
       "       3.33892562, 4.        ])"
      ]
     },
     "execution_count": 26,
     "metadata": {},
     "output_type": "execute_result"
    }
   ],
   "source": [
    "np.power(np.linspace(0.1,2,12),2)"
   ]
  },
  {
   "cell_type": "code",
   "execution_count": 72,
   "metadata": {},
   "outputs": [
    {
     "data": {
      "text/plain": [
       "array([0.1       , 0.27272727, 0.44545455, 0.61818182, 0.79090909,\n",
       "       0.96363636, 1.13636364, 1.30909091, 1.48181818, 1.65454545,\n",
       "       1.82727273, 2.        ])"
      ]
     },
     "execution_count": 72,
     "metadata": {},
     "output_type": "execute_result"
    }
   ],
   "source": [
    "np.linspace(0.1,2,12)"
   ]
  },
  {
   "cell_type": "code",
   "execution_count": 33,
   "metadata": {},
   "outputs": [
    {
     "data": {
      "text/plain": [
       "array([0.01      , 0.35795474, 0.70590948, 1.05386422, 1.40181896,\n",
       "       1.7497737 , 2.09772844, 2.44568318, 2.79363791, 3.14159265])"
      ]
     },
     "execution_count": 33,
     "metadata": {},
     "output_type": "execute_result"
    }
   ],
   "source": [
    "np.linspace(0.01,np.pi,10)"
   ]
  },
  {
   "cell_type": "code",
   "execution_count": 30,
   "metadata": {},
   "outputs": [
    {
     "data": {
      "text/html": [
       "<div>\n",
       "<style scoped>\n",
       "    .dataframe tbody tr th:only-of-type {\n",
       "        vertical-align: middle;\n",
       "    }\n",
       "\n",
       "    .dataframe tbody tr th {\n",
       "        vertical-align: top;\n",
       "    }\n",
       "\n",
       "    .dataframe thead th {\n",
       "        text-align: right;\n",
       "    }\n",
       "</style>\n",
       "<table border=\"1\" class=\"dataframe\">\n",
       "  <thead>\n",
       "    <tr style=\"text-align: right;\">\n",
       "      <th></th>\n",
       "      <th>x</th>\n",
       "      <th>y</th>\n",
       "    </tr>\n",
       "  </thead>\n",
       "  <tbody>\n",
       "    <tr>\n",
       "      <th>0</th>\n",
       "      <td>0.002500</td>\n",
       "      <td>1.620322</td>\n",
       "    </tr>\n",
       "    <tr>\n",
       "      <th>1</th>\n",
       "      <td>0.008906</td>\n",
       "      <td>1.620322</td>\n",
       "    </tr>\n",
       "    <tr>\n",
       "      <th>2</th>\n",
       "      <td>0.019250</td>\n",
       "      <td>1.620322</td>\n",
       "    </tr>\n",
       "    <tr>\n",
       "      <th>3</th>\n",
       "      <td>0.033531</td>\n",
       "      <td>1.620322</td>\n",
       "    </tr>\n",
       "    <tr>\n",
       "      <th>4</th>\n",
       "      <td>0.051750</td>\n",
       "      <td>1.620322</td>\n",
       "    </tr>\n",
       "    <tr>\n",
       "      <th>5</th>\n",
       "      <td>0.073906</td>\n",
       "      <td>1.620322</td>\n",
       "    </tr>\n",
       "  </tbody>\n",
       "</table>\n",
       "</div>"
      ],
      "text/plain": [
       "          x         y\n",
       "0  0.002500  1.620322\n",
       "1  0.008906  1.620322\n",
       "2  0.019250  1.620322\n",
       "3  0.033531  1.620322\n",
       "4  0.051750  1.620322\n",
       "5  0.073906  1.620322"
      ]
     },
     "execution_count": 30,
     "metadata": {},
     "output_type": "execute_result"
    }
   ],
   "source": [
    "DAncpmt"
   ]
  },
  {
   "cell_type": "code",
   "execution_count": 50,
   "metadata": {},
   "outputs": [
    {
     "data": {
      "text/html": [
       "<div>\n",
       "<style scoped>\n",
       "    .dataframe tbody tr th:only-of-type {\n",
       "        vertical-align: middle;\n",
       "    }\n",
       "\n",
       "    .dataframe tbody tr th {\n",
       "        vertical-align: top;\n",
       "    }\n",
       "\n",
       "    .dataframe thead th {\n",
       "        text-align: right;\n",
       "    }\n",
       "</style>\n",
       "<table border=\"1\" class=\"dataframe\">\n",
       "  <thead>\n",
       "    <tr style=\"text-align: right;\">\n",
       "      <th></th>\n",
       "      <th>x</th>\n",
       "      <th>y</th>\n",
       "    </tr>\n",
       "  </thead>\n",
       "  <tbody>\n",
       "    <tr>\n",
       "      <th>0</th>\n",
       "      <td>0.002500</td>\n",
       "      <td>1.620322</td>\n",
       "    </tr>\n",
       "    <tr>\n",
       "      <th>1</th>\n",
       "      <td>0.008906</td>\n",
       "      <td>1.620322</td>\n",
       "    </tr>\n",
       "    <tr>\n",
       "      <th>2</th>\n",
       "      <td>0.019250</td>\n",
       "      <td>1.620322</td>\n",
       "    </tr>\n",
       "    <tr>\n",
       "      <th>3</th>\n",
       "      <td>0.033531</td>\n",
       "      <td>1.620322</td>\n",
       "    </tr>\n",
       "    <tr>\n",
       "      <th>4</th>\n",
       "      <td>0.051750</td>\n",
       "      <td>1.620322</td>\n",
       "    </tr>\n",
       "    <tr>\n",
       "      <th>5</th>\n",
       "      <td>0.073906</td>\n",
       "      <td>1.620322</td>\n",
       "    </tr>\n",
       "    <tr>\n",
       "      <th>6</th>\n",
       "      <td>0.100000</td>\n",
       "      <td>1.620322</td>\n",
       "    </tr>\n",
       "    <tr>\n",
       "      <th>7</th>\n",
       "      <td>0.200000</td>\n",
       "      <td>1.620325</td>\n",
       "    </tr>\n",
       "    <tr>\n",
       "      <th>8</th>\n",
       "      <td>0.300000</td>\n",
       "      <td>1.620346</td>\n",
       "    </tr>\n",
       "    <tr>\n",
       "      <th>9</th>\n",
       "      <td>0.400000</td>\n",
       "      <td>1.620416</td>\n",
       "    </tr>\n",
       "    <tr>\n",
       "      <th>10</th>\n",
       "      <td>0.500000</td>\n",
       "      <td>1.620567</td>\n",
       "    </tr>\n",
       "    <tr>\n",
       "      <th>11</th>\n",
       "      <td>0.600000</td>\n",
       "      <td>1.620827</td>\n",
       "    </tr>\n",
       "    <tr>\n",
       "      <th>12</th>\n",
       "      <td>0.700000</td>\n",
       "      <td>1.621211</td>\n",
       "    </tr>\n",
       "    <tr>\n",
       "      <th>13</th>\n",
       "      <td>0.800000</td>\n",
       "      <td>1.621721</td>\n",
       "    </tr>\n",
       "    <tr>\n",
       "      <th>14</th>\n",
       "      <td>0.900000</td>\n",
       "      <td>1.622353</td>\n",
       "    </tr>\n",
       "    <tr>\n",
       "      <th>15</th>\n",
       "      <td>1.000000</td>\n",
       "      <td>1.623091</td>\n",
       "    </tr>\n",
       "    <tr>\n",
       "      <th>16</th>\n",
       "      <td>1.100000</td>\n",
       "      <td>1.623918</td>\n",
       "    </tr>\n",
       "    <tr>\n",
       "      <th>17</th>\n",
       "      <td>1.200000</td>\n",
       "      <td>1.624812</td>\n",
       "    </tr>\n",
       "    <tr>\n",
       "      <th>18</th>\n",
       "      <td>1.300000</td>\n",
       "      <td>1.625751</td>\n",
       "    </tr>\n",
       "    <tr>\n",
       "      <th>19</th>\n",
       "      <td>1.400000</td>\n",
       "      <td>1.626712</td>\n",
       "    </tr>\n",
       "    <tr>\n",
       "      <th>20</th>\n",
       "      <td>1.500000</td>\n",
       "      <td>1.627675</td>\n",
       "    </tr>\n",
       "    <tr>\n",
       "      <th>21</th>\n",
       "      <td>1.600000</td>\n",
       "      <td>1.628619</td>\n",
       "    </tr>\n",
       "    <tr>\n",
       "      <th>22</th>\n",
       "      <td>1.700000</td>\n",
       "      <td>1.629525</td>\n",
       "    </tr>\n",
       "    <tr>\n",
       "      <th>23</th>\n",
       "      <td>1.800000</td>\n",
       "      <td>1.630380</td>\n",
       "    </tr>\n",
       "    <tr>\n",
       "      <th>24</th>\n",
       "      <td>1.900000</td>\n",
       "      <td>1.631169</td>\n",
       "    </tr>\n",
       "    <tr>\n",
       "      <th>25</th>\n",
       "      <td>2.000000</td>\n",
       "      <td>1.631884</td>\n",
       "    </tr>\n",
       "    <tr>\n",
       "      <th>26</th>\n",
       "      <td>2.100000</td>\n",
       "      <td>1.632518</td>\n",
       "    </tr>\n",
       "    <tr>\n",
       "      <th>27</th>\n",
       "      <td>2.200000</td>\n",
       "      <td>1.633066</td>\n",
       "    </tr>\n",
       "    <tr>\n",
       "      <th>28</th>\n",
       "      <td>2.300000</td>\n",
       "      <td>1.633527</td>\n",
       "    </tr>\n",
       "    <tr>\n",
       "      <th>29</th>\n",
       "      <td>2.400000</td>\n",
       "      <td>1.633903</td>\n",
       "    </tr>\n",
       "    <tr>\n",
       "      <th>30</th>\n",
       "      <td>2.500000</td>\n",
       "      <td>1.634194</td>\n",
       "    </tr>\n",
       "    <tr>\n",
       "      <th>31</th>\n",
       "      <td>2.600000</td>\n",
       "      <td>1.634406</td>\n",
       "    </tr>\n",
       "    <tr>\n",
       "      <th>32</th>\n",
       "      <td>2.700000</td>\n",
       "      <td>1.634544</td>\n",
       "    </tr>\n",
       "    <tr>\n",
       "      <th>33</th>\n",
       "      <td>2.800000</td>\n",
       "      <td>1.634613</td>\n",
       "    </tr>\n",
       "    <tr>\n",
       "      <th>34</th>\n",
       "      <td>2.900000</td>\n",
       "      <td>1.634620</td>\n",
       "    </tr>\n",
       "    <tr>\n",
       "      <th>35</th>\n",
       "      <td>3.000000</td>\n",
       "      <td>1.634569</td>\n",
       "    </tr>\n",
       "  </tbody>\n",
       "</table>\n",
       "</div>"
      ],
      "text/plain": [
       "           x         y\n",
       "0   0.002500  1.620322\n",
       "1   0.008906  1.620322\n",
       "2   0.019250  1.620322\n",
       "3   0.033531  1.620322\n",
       "4   0.051750  1.620322\n",
       "5   0.073906  1.620322\n",
       "6   0.100000  1.620322\n",
       "7   0.200000  1.620325\n",
       "8   0.300000  1.620346\n",
       "9   0.400000  1.620416\n",
       "10  0.500000  1.620567\n",
       "11  0.600000  1.620827\n",
       "12  0.700000  1.621211\n",
       "13  0.800000  1.621721\n",
       "14  0.900000  1.622353\n",
       "15  1.000000  1.623091\n",
       "16  1.100000  1.623918\n",
       "17  1.200000  1.624812\n",
       "18  1.300000  1.625751\n",
       "19  1.400000  1.626712\n",
       "20  1.500000  1.627675\n",
       "21  1.600000  1.628619\n",
       "22  1.700000  1.629525\n",
       "23  1.800000  1.630380\n",
       "24  1.900000  1.631169\n",
       "25  2.000000  1.631884\n",
       "26  2.100000  1.632518\n",
       "27  2.200000  1.633066\n",
       "28  2.300000  1.633527\n",
       "29  2.400000  1.633903\n",
       "30  2.500000  1.634194\n",
       "31  2.600000  1.634406\n",
       "32  2.700000  1.634544\n",
       "33  2.800000  1.634613\n",
       "34  2.900000  1.634620\n",
       "35  3.000000  1.634569"
      ]
     },
     "execution_count": 50,
     "metadata": {},
     "output_type": "execute_result"
    }
   ],
   "source": [
    "df = DAncpmt.append(DAnsatz,ignore_index=True)\n",
    "df"
   ]
  },
  {
   "cell_type": "code",
   "execution_count": 33,
   "metadata": {},
   "outputs": [
    {
     "data": {
      "image/png": "[encoded data removed]",
      "text/plain": [
       "<Figure size 576x576 with 1 Axes>"
      ]
     },
     "metadata": {
      "needs_background": "light"
     },
     "output_type": "display_data"
    }
   ],
   "source": [
    "plt.figure(figsize=(8,8))\n",
    "plt.plot(np.sqrt(df.x),df.y,'r-')\n",
    "#plt.plot(DAncpmt.x,DAncpmt.y,'r-')\n",
    "#plt.plot(Dprueba.x[9:],Dprueba.y[9:],'ro')\n",
    "plt.ylabel('Z(Displaced Thermal)', fontsize=18)\n",
    "plt.xlabel(r'$|\\alpha|^2$', fontsize=18)\n",
    "plt.tick_params(labelsize=12,width=1)\n",
    "#plt.savefig('DisplacedThermal-test.pdf')\n",
    "plt.show()"
   ]
  },
  {
   "cell_type": "code",
   "execution_count": 49,
   "metadata": {},
   "outputs": [],
   "source": [
    "DQubit = pd.read_csv('Qubit-tests.dat', header=None, sep=',')"
   ]
  },
  {
   "cell_type": "code",
   "execution_count": 50,
   "metadata": {},
   "outputs": [],
   "source": [
    "DQubit.columns=['x','y']"
   ]
  },
  {
   "cell_type": "code",
   "execution_count": 51,
   "metadata": {},
   "outputs": [
    {
     "data": {
      "text/html": [
       "<div>\n",
       "<style scoped>\n",
       "    .dataframe tbody tr th:only-of-type {\n",
       "        vertical-align: middle;\n",
       "    }\n",
       "\n",
       "    .dataframe tbody tr th {\n",
       "        vertical-align: top;\n",
       "    }\n",
       "\n",
       "    .dataframe thead th {\n",
       "        text-align: right;\n",
       "    }\n",
       "</style>\n",
       "<table border=\"1\" class=\"dataframe\">\n",
       "  <thead>\n",
       "    <tr style=\"text-align: right;\">\n",
       "      <th></th>\n",
       "      <th>x</th>\n",
       "      <th>y</th>\n",
       "    </tr>\n",
       "  </thead>\n",
       "  <tbody>\n",
       "    <tr>\n",
       "      <th>20</th>\n",
       "      <td>0.010000</td>\n",
       "      <td>0.000011</td>\n",
       "    </tr>\n",
       "    <tr>\n",
       "      <th>21</th>\n",
       "      <td>0.357955</td>\n",
       "      <td>0.018476</td>\n",
       "    </tr>\n",
       "    <tr>\n",
       "      <th>22</th>\n",
       "      <td>0.705909</td>\n",
       "      <td>0.043706</td>\n",
       "    </tr>\n",
       "    <tr>\n",
       "      <th>23</th>\n",
       "      <td>1.053864</td>\n",
       "      <td>0.097776</td>\n",
       "    </tr>\n",
       "    <tr>\n",
       "      <th>24</th>\n",
       "      <td>1.401819</td>\n",
       "      <td>0.180899</td>\n",
       "    </tr>\n",
       "    <tr>\n",
       "      <th>25</th>\n",
       "      <td>1.749774</td>\n",
       "      <td>0.100161</td>\n",
       "    </tr>\n",
       "    <tr>\n",
       "      <th>26</th>\n",
       "      <td>2.097728</td>\n",
       "      <td>0.113618</td>\n",
       "    </tr>\n",
       "    <tr>\n",
       "      <th>27</th>\n",
       "      <td>2.445683</td>\n",
       "      <td>0.043668</td>\n",
       "    </tr>\n",
       "    <tr>\n",
       "      <th>28</th>\n",
       "      <td>2.793638</td>\n",
       "      <td>0.020474</td>\n",
       "    </tr>\n",
       "    <tr>\n",
       "      <th>29</th>\n",
       "      <td>3.141593</td>\n",
       "      <td>0.000000</td>\n",
       "    </tr>\n",
       "  </tbody>\n",
       "</table>\n",
       "</div>"
      ],
      "text/plain": [
       "           x         y\n",
       "20  0.010000  0.000011\n",
       "21  0.357955  0.018476\n",
       "22  0.705909  0.043706\n",
       "23  1.053864  0.097776\n",
       "24  1.401819  0.180899\n",
       "25  1.749774  0.100161\n",
       "26  2.097728  0.113618\n",
       "27  2.445683  0.043668\n",
       "28  2.793638  0.020474\n",
       "29  3.141593  0.000000"
      ]
     },
     "execution_count": 51,
     "metadata": {},
     "output_type": "execute_result"
    }
   ],
   "source": [
    "DQubit[20:]"
   ]
  },
  {
   "cell_type": "code",
   "execution_count": 39,
   "metadata": {},
   "outputs": [],
   "source": [
    "xZ = np.linspace(0,np.pi,200)\n",
    "yZ = 1-np.absolute(np.cos(xZ))"
   ]
  },
  {
   "cell_type": "code",
   "execution_count": 56,
   "metadata": {},
   "outputs": [
    {
     "data": {
      "image/png": "[encoded data removed]",
      "text/plain": [
       "<Figure size 576x576 with 1 Axes>"
      ]
     },
     "metadata": {
      "needs_background": "light"
     },
     "output_type": "display_data"
    }
   ],
   "source": [
    "plt.figure(figsize=(8,8))\n",
    "#plt.plot(DQubit.x[:10],DQubit.y[:10],'ro')\n",
    "plt.plot(DQubit.x[20:],DQubit.y[20:],'go')\n",
    "plt.plot(xZ,yZ, \"b-\",linewidth=0.7)\n",
    "plt.ylabel('Z(Displaced Thermal)', fontsize=18)\n",
    "plt.xlabel(r'$\\eta$', fontsize=18)\n",
    "plt.tick_params(labelsize=12,width=1)\n",
    "plt.savefig(\"QubitTest.pdf\")\n",
    "plt.show()"
   ]
  },
  {
   "cell_type": "code",
   "execution_count": 43,
   "metadata": {},
   "outputs": [
    {
     "data": {
      "text/plain": [
       "2"
      ]
     },
     "execution_count": 43,
     "metadata": {},
     "output_type": "execute_result"
    }
   ],
   "source": [
    "1+1"
   ]
  },
  {
   "cell_type": "code",
   "execution_count": null,
   "metadata": {},
   "outputs": [],
   "source": []
  }
 ],
 "metadata": {
  "kernelspec": {
   "display_name": "Python 3",
   "language": "python",
   "name": "python3"
  },
  "language_info": {
   "codemirror_mode": {
    "name": "ipython",
    "version": 3
   },
   "file_extension": ".py",
   "mimetype": "text/x-python",
   "name": "python",
   "nbconvert_exporter": "python",
   "pygments_lexer": "ipython3",
   "version": "3.7.3"
  }
 },
 "nbformat": 4,
 "nbformat_minor": 2
}
